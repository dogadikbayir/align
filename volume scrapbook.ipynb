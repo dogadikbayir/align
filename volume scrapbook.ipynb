{
 "cells": [
  {
   "cell_type": "markdown",
   "metadata": {},
   "source": [
    "# Molecular volume\n",
    "\n",
    "Arguably, the best overlap between two ligands is the one that maximises their overlapping volume. The union of atomic volumes can be calculated analytically with geometry, and a famous paper by Andrew Grant ([doi](https://doi.org/10.1002/(SICI)1096-987X(19961115)17:14<1653::AID-JCC7>3.0.CO;2-K)) showed how to do it with a Gaussian approximation of the atoms. This is nice in that the volume overlap has a gradient, and the 'fuzziness' kind of represents an electron cloud. \n",
    "\n",
    "But that's the union of atomic volumes. The volume of a molecule also includes the excluded spaces between atoms, and a protein shouldn't care whether the actual atoms overlap or not. \n",
    "\n",
    "Instead, this notebook shows how to calculate SES's and their volumes. The SES is approximated with a mesh, and there is a handy and fast algorithm for calculating the volume of a watertight mesh ([doi](https://doi.org/10.1109/ICIP.2001.958278)).\n",
    "\n",
    "To make life simple, we start in the 2d case.\n"
   ]
  },
  {
   "cell_type": "code",
   "execution_count": null,
   "metadata": {},
   "outputs": [],
   "source": []
  },
  {
   "cell_type": "code",
   "execution_count": null,
   "metadata": {},
   "outputs": [],
   "source": []
  },
  {
   "cell_type": "code",
   "execution_count": 1,
   "metadata": {},
   "outputs": [
    {
     "ename": "NameError",
     "evalue": "name 'mol' is not defined",
     "output_type": "error",
     "traceback": [
      "\u001b[0;31m---------------------------------------------------------------------------\u001b[0m",
      "\u001b[0;31mNameError\u001b[0m                                 Traceback (most recent call last)",
      "\u001b[0;32m<ipython-input-1-0cce8cf5ddcd>\u001b[0m in \u001b[0;36m<module>\u001b[0;34m\u001b[0m\n\u001b[1;32m      1\u001b[0m \u001b[0;32mfrom\u001b[0m \u001b[0mrdkit\u001b[0m\u001b[0;34m.\u001b[0m\u001b[0mChem\u001b[0m\u001b[0;34m.\u001b[0m\u001b[0mAllChem\u001b[0m \u001b[0;32mimport\u001b[0m \u001b[0mComputeMolVolume\u001b[0m\u001b[0;34m\u001b[0m\u001b[0;34m\u001b[0m\u001b[0m\n\u001b[0;32m----> 2\u001b[0;31m \u001b[0mComputeMolVolume\u001b[0m\u001b[0;34m(\u001b[0m\u001b[0mmol\u001b[0m\u001b[0;34m.\u001b[0m\u001b[0mmol\u001b[0m\u001b[0;34m,\u001b[0m \u001b[0;36m0\u001b[0m\u001b[0;34m)\u001b[0m\u001b[0;34m\u001b[0m\u001b[0;34m\u001b[0m\u001b[0m\n\u001b[0m",
      "\u001b[0;31mNameError\u001b[0m: name 'mol' is not defined"
     ]
    }
   ],
   "source": [
    "from rdkit.Chem.AllChem import ComputeMolVolume\n",
    "ComputeMolVolume(mol.mol, 0)"
   ]
  },
  {
   "cell_type": "code",
   "execution_count": null,
   "metadata": {},
   "outputs": [],
   "source": [
    "def estimate_volume(pos, n):\n",
    "    x1, y1,z1 = np.min(spheres,0)-2.5\n",
    "    x2, y2,z2 = np.max(spheres,0)+2.5\n",
    "    x = np.random.uniform(x1, x2, n)\n",
    "    y = np.random.uniform(y1, y2, n)\n",
    "    z = np.random.uniform(z1, z2, n)\n",
    "    s = np.vstack([x,y,z]).T\n",
    "    dis = (cdist(s, spheres) - radii).min(1)\n",
    "    i = (dis<0).sum()\n",
    "    return (i / n) * ((x2-x1) * (y2-y1) * (z2-z1))\n",
    "\n",
    "    \n",
    "    \n",
    "spheres = mol.mol.GetConformer(0).GetPositions()\n",
    "\n",
    "sizes = [100, 250, 500, 1000, 1500, 2000, 2500, 3000, 3500, 5000, 10_000, 12500, 15000, 20000]\n",
    "results = {}\n",
    "repeats = 5\n",
    "for size in sizes:\n",
    "    results[size] = []\n",
    "    for i in range(repeats):\n",
    "        vol = estimate_volume(spheres, size)\n",
    "        results[size].append(vol)"
   ]
  },
  {
   "cell_type": "code",
   "execution_count": null,
   "metadata": {},
   "outputs": [],
   "source": [
    "for size in sizes:\n",
    "    plt.scatter(np.ones(repeats)*size, results[size])\n",
    "plt.xscale('log')\n"
   ]
  },
  {
   "cell_type": "code",
   "execution_count": null,
   "metadata": {},
   "outputs": [],
   "source": []
  },
  {
   "cell_type": "code",
   "execution_count": null,
   "metadata": {},
   "outputs": [],
   "source": []
  },
  {
   "cell_type": "code",
   "execution_count": null,
   "metadata": {},
   "outputs": [],
   "source": [
    "import meshplot as mp"
   ]
  },
  {
   "cell_type": "code",
   "execution_count": null,
   "metadata": {},
   "outputs": [],
   "source": [
    "%%time\n",
    "import igl \n",
    "\n",
    "\n",
    "n=500\n",
    "x1, y1,z1 = np.min(vert,0)-1.5\n",
    "x2, y2,z2 = np.max(vert,0)+1.5\n",
    "x = np.random.uniform(x1, x2, n)\n",
    "y = np.random.uniform(y1, y2, n)\n",
    "z = np.random.uniform(z1, z2, n)\n",
    "s = np.vstack([x,y,z]).T\n",
    "#dis = (cdist(s, spheres) - radii).min(1)\n",
    "#i = (dis<0).sum()\n",
    "#return (i / n) * ((x2-x1) * (y2-y1) * (z2-z1))\n",
    "\n",
    "\n",
    "\n",
    "\n",
    "sd, i, c = igl.signed_distance(s, vert, faces)\n",
    "inside = (sd<0).sum()\n",
    "print((inside / n) * ((x2-x1) * (y2-y1) * (z2-z1)))"
   ]
  },
  {
   "cell_type": "code",
   "execution_count": null,
   "metadata": {},
   "outputs": [],
   "source": []
  },
  {
   "cell_type": "code",
   "execution_count": null,
   "metadata": {},
   "outputs": [],
   "source": []
  },
  {
   "cell_type": "code",
   "execution_count": null,
   "metadata": {},
   "outputs": [],
   "source": []
  },
  {
   "cell_type": "code",
   "execution_count": null,
   "metadata": {},
   "outputs": [],
   "source": [
    "def points_to_barycentric(triangles,\n",
    "                          points,\n",
    "                          method='cramer'):\n",
    "    \"\"\"\n",
    "    Find the barycentric coordinates of points relative to triangles.\n",
    "    The Cramer's rule solution implements:\n",
    "        http://blackpawn.com/texts/pointinpoly\n",
    "    The cross product solution implements:\n",
    "        https://www.cs.ubc.ca/~heidrich/Papers/JGT.05.pdf\n",
    "    Parameters\n",
    "    -----------\n",
    "    triangles : (n, 3, 3) float\n",
    "      Triangles vertices in space\n",
    "    points : (n, 3) float\n",
    "      Point in space associated with a triangle\n",
    "    method :  str\n",
    "      Which method to compute the barycentric coordinates with:\n",
    "        - 'cross': uses a method using cross products, roughly 2x slower but\n",
    "                  different numerical robustness properties\n",
    "        - anything else: uses a cramer's rule solution\n",
    "    Returns\n",
    "    -----------\n",
    "    barycentric : (n, 3) float\n",
    "      Barycentric coordinates of each point\n",
    "    \"\"\"\n",
    "\n",
    "    def method_cross():\n",
    "        n = np.cross(edge_vectors[:, 0], edge_vectors[:, 1])\n",
    "        denominator = diagonal_dot(n, n)\n",
    "\n",
    "        barycentric = np.zeros((len(triangles), 3), dtype=np.float64)\n",
    "        barycentric[:, 2] = diagonal_dot(\n",
    "            np.cross(edge_vectors[:, 0], w), n) / denominator\n",
    "        barycentric[:, 1] = diagonal_dot(\n",
    "            np.cross(w, edge_vectors[:, 1]), n) / denominator\n",
    "        barycentric[:, 0] = 1 - barycentric[:, 1] - barycentric[:, 2]\n",
    "        return barycentric\n",
    "\n",
    "    def method_cramer():\n",
    "        dot00 = diagonal_dot(edge_vectors[:, 0], edge_vectors[:, 0])\n",
    "        dot01 = diagonal_dot(edge_vectors[:, 0], edge_vectors[:, 1])\n",
    "        dot02 = diagonal_dot(edge_vectors[:, 0], w)\n",
    "        dot11 = diagonal_dot(edge_vectors[:, 1], edge_vectors[:, 1])\n",
    "        dot12 = diagonal_dot(edge_vectors[:, 1], w)\n",
    "\n",
    "        inverse_denominator = 1.0 / (dot00 * dot11 - dot01 * dot01)\n",
    "\n",
    "        barycentric = np.zeros((len(triangles), 3), dtype=np.float64)\n",
    "        barycentric[:, 2] = (dot00 * dot12 - dot01 *\n",
    "                             dot02) * inverse_denominator\n",
    "        barycentric[:, 1] = (dot11 * dot02 - dot01 *\n",
    "                             dot12) * inverse_denominator\n",
    "        barycentric[:, 0] = 1 - barycentric[:, 1] - barycentric[:, 2]\n",
    "        return barycentric\n",
    "\n",
    "    # establish that input triangles and points are sane\n",
    "    triangles = np.asanyarray(triangles, dtype=np.float64)\n",
    "    points = np.asanyarray(points, dtype=np.float64)\n",
    "#     if not util.is_shape(triangles, (-1, 3, 3)):\n",
    "#         raise ValueError('triangles shape incorrect')\n",
    "#     if not util.is_shape(points, (len(triangles), 3)):\n",
    "#         raise ValueError('triangles and points must correspond')\n",
    "\n",
    "    edge_vectors = triangles[:, 1:] - triangles[:, :1]\n",
    "    w = points - triangles[:, 0].reshape((-1, 3))\n",
    "\n",
    "    if method == 'cross':\n",
    "        return method_cross()\n",
    "    return method_cramer()\n",
    "\n",
    "def diagonal_dot(a, b):\n",
    "    \"\"\"From trimesh repo\"\"\"\n",
    "    a = np.asanyarray(a)\n",
    "    # 3x faster than (a * b).sum(axis=1)\n",
    "    # avoiding np.ones saves 5-10% sometimes\n",
    "    return np.dot(a * b, [1.0] * a.shape[1])"
   ]
  },
  {
   "cell_type": "code",
   "execution_count": null,
   "metadata": {},
   "outputs": [],
   "source": [
    "points_to_barycentric(vert[faces], np.random.random([924,3]))"
   ]
  },
  {
   "cell_type": "code",
   "execution_count": null,
   "metadata": {},
   "outputs": [],
   "source": [
    "# // Compute barycentric coordinates (u, v, w) for\n",
    "# // point p with respect to triangle (a, b, c)\n",
    "# void Barycentric(Point p, Point a, Point b, Point c, float &u, float &v, float &w)\n",
    "# {\n",
    "#     Vector v0 = b - a, v1 = c - a, v2 = p - a;\n",
    "#     float d00 = Dot(v0, v0);\n",
    "#     float d01 = Dot(v0, v1);\n",
    "#     float d11 = Dot(v1, v1);\n",
    "#     float d20 = Dot(v2, v0);\n",
    "#     float d21 = Dot(v2, v1);\n",
    "#     float denom = d00 * d11 - d01 * d01;\n",
    "#     v = (d11 * d20 - d01 * d21) / denom;\n",
    "#     w = (d00 * d21 - d01 * d20) / denom;\n",
    "#     u = 1.0f - v - w;\n",
    "# }\n",
    "#https://gamedev.stackexchange.com/questions/23743/whats-the-most-efficient-way-to-find-barycentric-coordinates\n",
    "\n",
    "def bary(p, t):\n",
    "    a,b,c = t\n",
    "\n",
    "    v0 = b - a; v1 = c - a; v2 = p - c;\n",
    "    d00 = np.dot(v0, v0);\n",
    "    d01 = np.dot(v0, v1);\n",
    "    d11 = np.dot(v1, v1);\n",
    "    d20 = np.dot(v2, v0);\n",
    "    d21 = np.dot(v2, v1);\n",
    "    denom = d00 * d11 - d01 * d01;\n",
    "\n",
    "    v = (d11 * d20 - d01 * d21) / denom;\n",
    "\n",
    "    w = (d00 * d21 - d01 * d20) / denom;\n",
    "    u = 1.0 -v -w \n",
    "    return v, w, u \n",
    "\n",
    "    "
   ]
  },
  {
   "cell_type": "code",
   "execution_count": null,
   "metadata": {},
   "outputs": [],
   "source": []
  },
  {
   "cell_type": "code",
   "execution_count": null,
   "metadata": {},
   "outputs": [],
   "source": []
  },
  {
   "cell_type": "code",
   "execution_count": null,
   "metadata": {},
   "outputs": [],
   "source": [
    "from jax import vmap, jit\n",
    "import jax.numpy as jnp\n",
    "\n",
    "@jit\n",
    "def signed_vol_of_triangle(p1, p2, p3):\n",
    "    v321 = p3[0]*p2[1]*p1[2]\n",
    "    v231 = p2[0]*p3[1]*p1[2]\n",
    "    v312 = p3[0]*p1[1]*p2[2]\n",
    "    v132 = p1[0]*p3[1]*p2[2]\n",
    "    v213 = p2[0]*p1[1]*p3[2]\n",
    "    v123 = p1[0]*p2[1]*p3[2]\n",
    "    return (1 / 6)*(-v321 + v231 + v312 - v132 - v213 + v123)\n",
    "\n",
    "\n",
    "def make_vol(pts):\n",
    "    return signed_vol_of_triangle(pts[0], pts[1], pts[2])\n",
    "\n",
    "vmake_vol = vmap(make_vol)"
   ]
  },
  {
   "cell_type": "code",
   "execution_count": null,
   "metadata": {},
   "outputs": [],
   "source": [
    "tris = vert[faces]\n",
    "\n"
   ]
  },
  {
   "cell_type": "code",
   "execution_count": null,
   "metadata": {},
   "outputs": [],
   "source": [
    "%%time\n",
    "vmake_vol(np.vstack([tris, -1*(tris+2)])).sum() "
   ]
  },
  {
   "cell_type": "code",
   "execution_count": null,
   "metadata": {},
   "outputs": [],
   "source": []
  },
  {
   "cell_type": "code",
   "execution_count": null,
   "metadata": {},
   "outputs": [],
   "source": []
  },
  {
   "cell_type": "code",
   "execution_count": null,
   "metadata": {},
   "outputs": [],
   "source": []
  },
  {
   "cell_type": "code",
   "execution_count": null,
   "metadata": {},
   "outputs": [],
   "source": [
    "import open3d as o3d\n",
    "chimera_mesh = o3d.io.read_triangle_mesh('chimera.stl')\n",
    "\n",
    "chimera_vertices = np.array(chimera_mesh.vertices)\n",
    "chimera_faces = np.array(chimera_mesh.triangles)\n",
    "\n",
    "o3d.visualization.draw_geometries([chimera_mesh])"
   ]
  },
  {
   "cell_type": "code",
   "execution_count": null,
   "metadata": {},
   "outputs": [],
   "source": [
    "vmake_vol(chimera_vertices[chimera_faces]).sum()\n"
   ]
  },
  {
   "cell_type": "code",
   "execution_count": null,
   "metadata": {},
   "outputs": [],
   "source": [
    "vmake_vol((vert)[faces]).sum()"
   ]
  },
  {
   "cell_type": "code",
   "execution_count": null,
   "metadata": {},
   "outputs": [],
   "source": []
  },
  {
   "cell_type": "code",
   "execution_count": null,
   "metadata": {},
   "outputs": [],
   "source": []
  },
  {
   "cell_type": "code",
   "execution_count": null,
   "metadata": {},
   "outputs": [],
   "source": [
    "import igl \n",
    "lv, lf = igl.loop(vert, faces.astype(int))\n",
    "v = lv.copy()\n",
    "f = lf.copy()"
   ]
  },
  {
   "cell_type": "code",
   "execution_count": null,
   "metadata": {},
   "outputs": [],
   "source": []
  },
  {
   "cell_type": "code",
   "execution_count": null,
   "metadata": {},
   "outputs": [],
   "source": []
  },
  {
   "cell_type": "code",
   "execution_count": null,
   "metadata": {},
   "outputs": [],
   "source": []
  }
 ],
 "metadata": {
  "kernelspec": {
   "display_name": "Python 3",
   "language": "python",
   "name": "python3"
  },
  "language_info": {
   "codemirror_mode": {
    "name": "ipython",
    "version": 3
   },
   "file_extension": ".py",
   "mimetype": "text/x-python",
   "name": "python",
   "nbconvert_exporter": "python",
   "pygments_lexer": "ipython3",
   "version": "3.7.8"
  }
 },
 "nbformat": 4,
 "nbformat_minor": 4
}
